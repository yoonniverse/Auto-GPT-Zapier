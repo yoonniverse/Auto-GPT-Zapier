{
 "cells": [
  {
   "cell_type": "code",
   "execution_count": 1,
   "metadata": {},
   "outputs": [
    {
     "data": {
      "text/plain": [
       "True"
      ]
     },
     "execution_count": 1,
     "metadata": {},
     "output_type": "execute_result"
    }
   ],
   "source": [
    "%load_ext autoreload\n",
    "%autoreload 2\n",
    "\n",
    "from src.zapier_plugin.zapier import *\n",
    "from dotenv import load_dotenv\n",
    "load_dotenv()"
   ]
  },
  {
   "cell_type": "code",
   "execution_count": 2,
   "metadata": {},
   "outputs": [],
   "source": [
    "zapier = ZapierNLAWrapper()"
   ]
  },
  {
   "cell_type": "code",
   "execution_count": 11,
   "metadata": {},
   "outputs": [
    {
     "data": {
      "text/plain": [
       "{'id': '01H0HVPTZHJVPJ23J3AATXT9TP',\n",
       " 'operation_id': 'slack_send_direct_message_fcc046d',\n",
       " 'description': 'Slack: Send Direct Message',\n",
       " 'params': {'instructions': 'str',\n",
       "  'To_Username': 'str',\n",
       "  'Message_Text': 'str'}}"
      ]
     },
     "execution_count": 11,
     "metadata": {},
     "output_type": "execute_result"
    }
   ],
   "source": [
    "actions = zapier.list()\n",
    "action = actions[0]\n",
    "action"
   ]
  },
  {
   "cell_type": "code",
   "execution_count": 12,
   "metadata": {},
   "outputs": [
    {
     "data": {
      "text/plain": [
       "{'message__text': 'This is from zapier api.',\n",
       " 'message__permalink': 'https://test-cpo6655.slack.com/archives/D057YBWKAPM/p1684291924160809',\n",
       " 'channel': 'D057YBWKAPM',\n",
       " 'ts': '1684291924.160809',\n",
       " 'message__blocks[]block_id': 'BrVb',\n",
       " 'message__bot_id': 'B05810TDJN8',\n",
       " 'message__bot_profile__deleted': 'false',\n",
       " 'ts_time': '2023-05-17T02:52:04Z',\n",
       " 'message__team': 'T058N6MTVT2',\n",
       " 'message__bot_profile__name': 'Zapier',\n",
       " 'message__bot_profile__app_id': 'A024R9PQM',\n",
       " 'message__bot_profile__icons__image_36': 'https://avatars.slack-edge.com/2022-08-02/3888649620612_f864dc1bb794cf7d82b0_36.png',\n",
       " 'message__blocks[]elements[]elements[]type': \"[['text']]\"}"
      ]
     },
     "execution_count": 12,
     "metadata": {},
     "output_type": "execute_result"
    }
   ],
   "source": [
    "zapier.run(\n",
    "    action['id'],\n",
    "    params={'Message_Text': 'This is from zapier api.', 'To_Username': '김윤수'}\n",
    ")"
   ]
  },
  {
   "cell_type": "code",
   "execution_count": null,
   "metadata": {},
   "outputs": [],
   "source": []
  }
 ],
 "metadata": {
  "kernelspec": {
   "display_name": "autogpt",
   "language": "python",
   "name": "python3"
  },
  "language_info": {
   "codemirror_mode": {
    "name": "ipython",
    "version": 3
   },
   "file_extension": ".py",
   "mimetype": "text/x-python",
   "name": "python",
   "nbconvert_exporter": "python",
   "pygments_lexer": "ipython3",
   "version": "3.10.10"
  },
  "orig_nbformat": 4
 },
 "nbformat": 4,
 "nbformat_minor": 2
}
